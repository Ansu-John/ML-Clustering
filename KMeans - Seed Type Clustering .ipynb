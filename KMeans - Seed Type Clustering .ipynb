{
 "cells": [
  {
   "cell_type": "markdown",
   "metadata": {},
   "source": [
    "# Import libraries"
   ]
  },
  {
   "cell_type": "code",
   "execution_count": 1,
   "metadata": {},
   "outputs": [],
   "source": [
    "from pyspark.sql import SparkSession\n",
    "spark = SparkSession.builder.appName(\"KMeans Cluster Model\").getOrCreate()"
   ]
  },
  {
   "cell_type": "code",
   "execution_count": 2,
   "metadata": {},
   "outputs": [],
   "source": [
    "from pyspark.ml.clustering import KMeans, LDA, BisectingKMeans, GaussianMixture, PowerIterationClustering\n",
    "from pyspark.ml.feature import VectorAssembler, VectorIndexer\n",
    "from pyspark.ml.feature import StandardScaler\n",
    "from pyspark.ml.evaluation import ClusteringEvaluator"
   ]
  },
  {
   "cell_type": "markdown",
   "metadata": {},
   "source": [
    "# Load and verify data"
   ]
  },
  {
   "cell_type": "code",
   "execution_count": 3,
   "metadata": {},
   "outputs": [],
   "source": [
    "data = spark.read.csv('seeds_dataset.csv',header = True, inferSchema = True)"
   ]
  },
  {
   "cell_type": "code",
   "execution_count": 4,
   "metadata": {},
   "outputs": [
    {
     "name": "stdout",
     "output_type": "stream",
     "text": [
      "root\n",
      " |-- area: double (nullable = true)\n",
      " |-- perimeter: double (nullable = true)\n",
      " |-- compactness: double (nullable = true)\n",
      " |-- length_of_kernel: double (nullable = true)\n",
      " |-- width_of_kernel: double (nullable = true)\n",
      " |-- asymmetry_coefficient: double (nullable = true)\n",
      " |-- length_of_groove: double (nullable = true)\n",
      "\n"
     ]
    }
   ],
   "source": [
    "data.printSchema()"
   ]
  },
  {
   "cell_type": "code",
   "execution_count": 5,
   "metadata": {},
   "outputs": [
    {
     "data": {
      "text/plain": [
       "[Row(area=15.26, perimeter=14.84, compactness=0.871, length_of_kernel=5.763, width_of_kernel=3.312, asymmetry_coefficient=2.221, length_of_groove=5.22),\n",
       " Row(area=14.88, perimeter=14.57, compactness=0.8811, length_of_kernel=5.553999999999999, width_of_kernel=3.333, asymmetry_coefficient=1.018, length_of_groove=4.956),\n",
       " Row(area=14.29, perimeter=14.09, compactness=0.905, length_of_kernel=5.291, width_of_kernel=3.3369999999999997, asymmetry_coefficient=2.699, length_of_groove=4.825)]"
      ]
     },
     "execution_count": 5,
     "metadata": {},
     "output_type": "execute_result"
    }
   ],
   "source": [
    "data.head(3)"
   ]
  },
  {
   "cell_type": "code",
   "execution_count": 6,
   "metadata": {},
   "outputs": [
    {
     "name": "stdout",
     "output_type": "stream",
     "text": [
      "15.26\n",
      "14.84\n",
      "0.871\n",
      "5.763\n",
      "3.312\n",
      "2.221\n",
      "5.22\n"
     ]
    }
   ],
   "source": [
    "for item in data.head(1)[0]:\n",
    "    print(item)"
   ]
  },
  {
   "cell_type": "code",
   "execution_count": 7,
   "metadata": {},
   "outputs": [
    {
     "name": "stdout",
     "output_type": "stream",
     "text": [
      "+-------+------------------+------------------+--------------------+-------------------+------------------+---------------------+-------------------+\n",
      "|summary|              area|         perimeter|         compactness|   length_of_kernel|   width_of_kernel|asymmetry_coefficient|   length_of_groove|\n",
      "+-------+------------------+------------------+--------------------+-------------------+------------------+---------------------+-------------------+\n",
      "|  count|               210|               210|                 210|                210|               210|                  210|                210|\n",
      "|   mean|14.847523809523816|14.559285714285718|  0.8709985714285714|  5.628533333333335| 3.258604761904762|   3.7001999999999997|  5.408071428571429|\n",
      "| stddev|2.9096994306873647|1.3059587265640225|0.023629416583846364|0.44306347772644983|0.3777144449065867|   1.5035589702547392|0.49148049910240543|\n",
      "|    min|             10.59|             12.41|              0.8081|              4.899|              2.63|                0.765|              4.519|\n",
      "|    max|             21.18|             17.25|              0.9183|              6.675|             4.033|                8.456|               6.55|\n",
      "+-------+------------------+------------------+--------------------+-------------------+------------------+---------------------+-------------------+\n",
      "\n"
     ]
    }
   ],
   "source": [
    "data.describe().show()"
   ]
  },
  {
   "cell_type": "code",
   "execution_count": 8,
   "metadata": {},
   "outputs": [
    {
     "data": {
      "text/plain": [
       "['area',\n",
       " 'perimeter',\n",
       " 'compactness',\n",
       " 'length_of_kernel',\n",
       " 'width_of_kernel',\n",
       " 'asymmetry_coefficient',\n",
       " 'length_of_groove']"
      ]
     },
     "execution_count": 8,
     "metadata": {},
     "output_type": "execute_result"
    }
   ],
   "source": [
    "data.columns"
   ]
  },
  {
   "cell_type": "markdown",
   "metadata": {},
   "source": [
    "# Data Preprocessing"
   ]
  },
  {
   "cell_type": "code",
   "execution_count": 9,
   "metadata": {},
   "outputs": [],
   "source": [
    "assembler = VectorAssembler(inputCols =data.columns,outputCol='features')\n",
    "final_data = assembler.transform(data)"
   ]
  },
  {
   "cell_type": "code",
   "execution_count": 10,
   "metadata": {},
   "outputs": [
    {
     "data": {
      "text/plain": [
       "[Row(area=15.26, perimeter=14.84, compactness=0.871, length_of_kernel=5.763, width_of_kernel=3.312, asymmetry_coefficient=2.221, length_of_groove=5.22, features=DenseVector([15.26, 14.84, 0.871, 5.763, 3.312, 2.221, 5.22]), scaledfeatures=DenseVector([5.2445, 11.3633, 36.8608, 13.0072, 8.7685, 1.4772, 10.621]))]"
      ]
     },
     "execution_count": 10,
     "metadata": {},
     "output_type": "execute_result"
    }
   ],
   "source": [
    "scaler = StandardScaler(inputCol='features',outputCol='scaledfeatures')\n",
    "final_data = scaler.fit(final_data).transform(final_data)\n",
    "final_data.head(1)"
   ]
  },
  {
   "cell_type": "markdown",
   "metadata": {},
   "source": [
    "# Train and Test data"
   ]
  },
  {
   "cell_type": "code",
   "execution_count": 11,
   "metadata": {},
   "outputs": [],
   "source": [
    "train_data,test_data = final_data.randomSplit([0.7,0.3])"
   ]
  },
  {
   "cell_type": "code",
   "execution_count": 12,
   "metadata": {},
   "outputs": [
    {
     "name": "stdout",
     "output_type": "stream",
     "text": [
      "+-----+---------+-----------+----------------+---------------+---------------------+----------------+--------------------+--------------------+\n",
      "| area|perimeter|compactness|length_of_kernel|width_of_kernel|asymmetry_coefficient|length_of_groove|            features|      scaledfeatures|\n",
      "+-----+---------+-----------+----------------+---------------+---------------------+----------------+--------------------+--------------------+\n",
      "|10.59|    12.41|     0.8648|           4.899|          2.787|                4.975|           4.794|[10.59,12.41,0.86...|[3.63955118123602...|\n",
      "|10.74|    12.73|     0.8329|           5.145|          2.642|                4.702|           4.963|[10.74,12.73,0.83...|[3.69110289768413...|\n",
      "+-----+---------+-----------+----------------+---------------+---------------------+----------------+--------------------+--------------------+\n",
      "only showing top 2 rows\n",
      "\n"
     ]
    }
   ],
   "source": [
    "train_data.show(2)"
   ]
  },
  {
   "cell_type": "code",
   "execution_count": 13,
   "metadata": {},
   "outputs": [
    {
     "name": "stdout",
     "output_type": "stream",
     "text": [
      "+-----+---------+-----------+----------------+---------------+---------------------+------------------+--------------------+--------------------+\n",
      "| area|perimeter|compactness|length_of_kernel|width_of_kernel|asymmetry_coefficient|  length_of_groove|            features|      scaledfeatures|\n",
      "+-----+---------+-----------+----------------+---------------+---------------------+------------------+--------------------+--------------------+\n",
      "|10.79|    12.93|     0.8107|           5.317|          2.648|    5.462000000000001|             5.194|[10.79,12.93,0.81...|[3.70828680316683...|\n",
      "|10.82|    12.83|     0.8256|            5.18|           2.63|                4.853|5.0889999999999995|[10.82,12.83,0.82...|[3.71859714645645...|\n",
      "+-----+---------+-----------+----------------+---------------+---------------------+------------------+--------------------+--------------------+\n",
      "only showing top 2 rows\n",
      "\n"
     ]
    }
   ],
   "source": [
    "test_data.show(2)"
   ]
  },
  {
   "cell_type": "markdown",
   "metadata": {},
   "source": [
    "# Build and Evaluate Model "
   ]
  },
  {
   "cell_type": "markdown",
   "metadata": {},
   "source": [
    "### K-means"
   ]
  },
  {
   "cell_type": "code",
   "execution_count": 14,
   "metadata": {},
   "outputs": [],
   "source": [
    "classifier = KMeans(k=2,featuresCol='scaledfeatures')\n",
    "model = classifier.fit(train_data)"
   ]
  },
  {
   "cell_type": "code",
   "execution_count": 15,
   "metadata": {},
   "outputs": [],
   "source": [
    "# Make predictions\n",
    "predictions = model.transform(test_data)"
   ]
  },
  {
   "cell_type": "code",
   "execution_count": 16,
   "metadata": {},
   "outputs": [
    {
     "name": "stdout",
     "output_type": "stream",
     "text": [
      "0.7168901012226508\n"
     ]
    }
   ],
   "source": [
    "# Evaluate clustering by computing Silhouette score\n",
    "print(ClusteringEvaluator().evaluate(predictions))"
   ]
  },
  {
   "cell_type": "code",
   "execution_count": 17,
   "metadata": {},
   "outputs": [
    {
     "name": "stdout",
     "output_type": "stream",
     "text": [
      "Cluster Centers: \n",
      "[ 6.07778107 12.12679731 37.42676327 13.62169192  9.57951868  2.25435015\n",
      " 11.87888827]\n",
      "[ 4.35285703 10.4043414  36.38447091 11.98785792  7.88634525  2.648241\n",
      " 10.33561417]\n"
     ]
    }
   ],
   "source": [
    "# Shows the result.\n",
    "centers = model.clusterCenters()\n",
    "print(\"Cluster Centers: \")\n",
    "for center in centers:    \n",
    "    print(center)"
   ]
  },
  {
   "cell_type": "code",
   "execution_count": 18,
   "metadata": {},
   "outputs": [
    {
     "name": "stdout",
     "output_type": "stream",
     "text": [
      "+-----+---------+------------------+----------------+---------------+---------------------+------------------+--------------------+--------------------+----------+\n",
      "| area|perimeter|       compactness|length_of_kernel|width_of_kernel|asymmetry_coefficient|  length_of_groove|            features|      scaledfeatures|prediction|\n",
      "+-----+---------+------------------+----------------+---------------+---------------------+------------------+--------------------+--------------------+----------+\n",
      "|10.79|    12.93|            0.8107|           5.317|          2.648|    5.462000000000001|             5.194|[10.79,12.93,0.81...|[3.70828680316683...|         1|\n",
      "|10.82|    12.83|            0.8256|            5.18|           2.63|                4.853|5.0889999999999995|[10.82,12.83,0.82...|[3.71859714645645...|         1|\n",
      "|10.93|     12.8|0.8390000000000001|           5.046|          2.717|                5.398|             5.045|[10.93,12.8,0.839...|[3.75640173851839...|         1|\n",
      "+-----+---------+------------------+----------------+---------------+---------------------+------------------+--------------------+--------------------+----------+\n",
      "only showing top 3 rows\n",
      "\n"
     ]
    }
   ],
   "source": [
    "predictions.show(3)"
   ]
  },
  {
   "cell_type": "markdown",
   "metadata": {},
   "source": [
    "### LDA Model"
   ]
  },
  {
   "cell_type": "code",
   "execution_count": 19,
   "metadata": {},
   "outputs": [
    {
     "name": "stdout",
     "output_type": "stream",
     "text": [
      "The lower bound on the log likelihood of the entire corpus: -12983.336177573194\n"
     ]
    }
   ],
   "source": [
    "# Build and Train Model\n",
    "classifier = LDA(k=10, maxIter=10)\n",
    "model = classifier.fit(train_data)\n",
    "ll = model.logLikelihood(train_data)\n",
    "print(\"The lower bound on the log likelihood of the entire corpus: \" + str(ll))"
   ]
  },
  {
   "cell_type": "code",
   "execution_count": 20,
   "metadata": {},
   "outputs": [
    {
     "name": "stdout",
     "output_type": "stream",
     "text": [
      "The upper bound on perplexity: 1.7880510707450954\n"
     ]
    }
   ],
   "source": [
    "lp = model.logPerplexity(train_data)\n",
    "print(\"The upper bound on perplexity: \" + str(lp))"
   ]
  },
  {
   "cell_type": "code",
   "execution_count": 21,
   "metadata": {},
   "outputs": [
    {
     "name": "stdout",
     "output_type": "stream",
     "text": [
      "The topics described by their top-weighted terms:\n",
      "+-----+-----------+---------------------------------------------------------------+\n",
      "|topic|termIndices|termWeights                                                    |\n",
      "+-----+-----------+---------------------------------------------------------------+\n",
      "|0    |[6, 3, 1]  |[0.1576947352898697, 0.1458773093660993, 0.14187695448498366]  |\n",
      "|1    |[0, 2, 1]  |[0.16034343322698477, 0.15727103756293, 0.14469432194691803]   |\n",
      "|2    |[5, 6, 3]  |[0.15774365475755073, 0.14844202089911707, 0.14456670522897427]|\n",
      "|3    |[5, 3, 4]  |[0.15443179907826954, 0.1531448467053669, 0.15184239179404682] |\n",
      "|4    |[0, 3, 5]  |[0.17107361749489125, 0.1616701989849892, 0.15071309176215092] |\n",
      "|5    |[5, 2, 1]  |[0.16857747134947987, 0.149966958911465, 0.14589756820545954]  |\n",
      "|6    |[5, 6, 4]  |[0.1630092932292176, 0.15521112245299357, 0.1505916844550948]  |\n",
      "|7    |[6, 3, 0]  |[0.1737564327358855, 0.14753322053325083, 0.14133696674110088] |\n",
      "|8    |[2, 4, 3]  |[0.16128513920318685, 0.15569277847890783, 0.14708459781055927]|\n",
      "|9    |[0, 1, 3]  |[0.3020726557457087, 0.30072595426589466, 0.11682661138765814] |\n",
      "+-----+-----------+---------------------------------------------------------------+\n",
      "\n"
     ]
    }
   ],
   "source": [
    "# Describe topics.\n",
    "topics = model.describeTopics(3)\n",
    "print(\"The topics described by their top-weighted terms:\")\n",
    "topics.show(truncate=False)"
   ]
  },
  {
   "cell_type": "code",
   "execution_count": 22,
   "metadata": {},
   "outputs": [],
   "source": [
    "# Make predictions\n",
    "predictions = model.transform(test_data)"
   ]
  },
  {
   "cell_type": "code",
   "execution_count": 23,
   "metadata": {},
   "outputs": [
    {
     "name": "stdout",
     "output_type": "stream",
     "text": [
      "+-----+---------+------------------+----------------+---------------+---------------------+------------------+--------------------+--------------------+--------------------+\n",
      "| area|perimeter|       compactness|length_of_kernel|width_of_kernel|asymmetry_coefficient|  length_of_groove|            features|      scaledfeatures|   topicDistribution|\n",
      "+-----+---------+------------------+----------------+---------------+---------------------+------------------+--------------------+--------------------+--------------------+\n",
      "|10.79|    12.93|            0.8107|           5.317|          2.648|    5.462000000000001|             5.194|[10.79,12.93,0.81...|[3.70828680316683...|[0.00197952470464...|\n",
      "|10.82|    12.83|            0.8256|            5.18|           2.63|                4.853|5.0889999999999995|[10.82,12.83,0.82...|[3.71859714645645...|[0.00202192477186...|\n",
      "|10.93|     12.8|0.8390000000000001|           5.046|          2.717|                5.398|             5.045|[10.93,12.8,0.839...|[3.75640173851839...|[0.00199659249056...|\n",
      "+-----+---------+------------------+----------------+---------------+---------------------+------------------+--------------------+--------------------+--------------------+\n",
      "only showing top 3 rows\n",
      "\n"
     ]
    }
   ],
   "source": [
    "predictions.show(3)"
   ]
  },
  {
   "cell_type": "markdown",
   "metadata": {},
   "source": [
    "### Bisecting k-means"
   ]
  },
  {
   "cell_type": "code",
   "execution_count": 24,
   "metadata": {},
   "outputs": [],
   "source": [
    "# Build and Train Model\n",
    "classifier = BisectingKMeans().setK(2).setSeed(1)\n",
    "model = classifier.fit(train_data)"
   ]
  },
  {
   "cell_type": "code",
   "execution_count": 25,
   "metadata": {},
   "outputs": [
    {
     "name": "stdout",
     "output_type": "stream",
     "text": [
      "0.6910492756132363\n"
     ]
    }
   ],
   "source": [
    "# Make predictions\n",
    "predictions = model.transform(test_data)\n",
    "# Evaluate clustering by computing Silhouette score\n",
    "print(ClusteringEvaluator().evaluate(predictions))"
   ]
  },
  {
   "cell_type": "code",
   "execution_count": 26,
   "metadata": {},
   "outputs": [
    {
     "name": "stdout",
     "output_type": "stream",
     "text": [
      "Cluster Centers: \n",
      "[12.55529412 13.53458824  0.85921294  5.29488235  2.96549412  4.05595294\n",
      "  5.07103529]\n",
      "[17.52227273 15.76909091  0.88356364  6.01265152  3.59668182  3.32992424\n",
      "  5.8035    ]\n"
     ]
    }
   ],
   "source": [
    "# Shows the result\n",
    "centers = model.clusterCenters()\n",
    "print(\"Cluster Centers: \")\n",
    "for center in centers:    \n",
    "    print(center)"
   ]
  },
  {
   "cell_type": "code",
   "execution_count": 27,
   "metadata": {},
   "outputs": [
    {
     "name": "stdout",
     "output_type": "stream",
     "text": [
      "+-----+---------+------------------+----------------+---------------+---------------------+------------------+--------------------+--------------------+----------+\n",
      "| area|perimeter|       compactness|length_of_kernel|width_of_kernel|asymmetry_coefficient|  length_of_groove|            features|      scaledfeatures|prediction|\n",
      "+-----+---------+------------------+----------------+---------------+---------------------+------------------+--------------------+--------------------+----------+\n",
      "|10.79|    12.93|            0.8107|           5.317|          2.648|    5.462000000000001|             5.194|[10.79,12.93,0.81...|[3.70828680316683...|         0|\n",
      "|10.82|    12.83|            0.8256|            5.18|           2.63|                4.853|5.0889999999999995|[10.82,12.83,0.82...|[3.71859714645645...|         0|\n",
      "|10.93|     12.8|0.8390000000000001|           5.046|          2.717|                5.398|             5.045|[10.93,12.8,0.839...|[3.75640173851839...|         0|\n",
      "+-----+---------+------------------+----------------+---------------+---------------------+------------------+--------------------+--------------------+----------+\n",
      "only showing top 3 rows\n",
      "\n"
     ]
    }
   ],
   "source": [
    "predictions.show(3)"
   ]
  },
  {
   "cell_type": "markdown",
   "metadata": {},
   "source": [
    "### Gaussian Mixture Model (GMM)"
   ]
  },
  {
   "cell_type": "code",
   "execution_count": 28,
   "metadata": {},
   "outputs": [],
   "source": [
    "# Build and Train Model\n",
    "classifier = GaussianMixture().setK(2).setSeed(538009335)\n",
    "model = classifier.fit(train_data)"
   ]
  },
  {
   "cell_type": "code",
   "execution_count": 29,
   "metadata": {},
   "outputs": [
    {
     "name": "stdout",
     "output_type": "stream",
     "text": [
      "0.6169943751951565\n"
     ]
    }
   ],
   "source": [
    "# Make predictions\n",
    "predictions = model.transform(test_data)\n",
    "# Evaluate clustering by computing Silhouette score\n",
    "print(ClusteringEvaluator().evaluate(predictions))"
   ]
  },
  {
   "cell_type": "code",
   "execution_count": 30,
   "metadata": {},
   "outputs": [
    {
     "name": "stdout",
     "output_type": "stream",
     "text": [
      "+-----+---------+------------------+----------------+---------------+---------------------+------------------+--------------------+--------------------+--------------------+----------+\n",
      "| area|perimeter|       compactness|length_of_kernel|width_of_kernel|asymmetry_coefficient|  length_of_groove|            features|      scaledfeatures|         probability|prediction|\n",
      "+-----+---------+------------------+----------------+---------------+---------------------+------------------+--------------------+--------------------+--------------------+----------+\n",
      "|10.79|    12.93|            0.8107|           5.317|          2.648|    5.462000000000001|             5.194|[10.79,12.93,0.81...|[3.70828680316683...|[1.0,5.8306706611...|         0|\n",
      "|10.82|    12.83|            0.8256|            5.18|           2.63|                4.853|5.0889999999999995|[10.82,12.83,0.82...|[3.71859714645645...|[1.0,1.4456517535...|         0|\n",
      "|10.93|     12.8|0.8390000000000001|           5.046|          2.717|                5.398|             5.045|[10.93,12.8,0.839...|[3.75640173851839...|[1.0,3.4803577230...|         0|\n",
      "+-----+---------+------------------+----------------+---------------+---------------------+------------------+--------------------+--------------------+--------------------+----------+\n",
      "only showing top 3 rows\n",
      "\n"
     ]
    }
   ],
   "source": [
    "predictions.show(3)"
   ]
  },
  {
   "cell_type": "markdown",
   "metadata": {},
   "source": [
    "### Power Iteration Clustering (PIC)"
   ]
  },
  {
   "cell_type": "code",
   "execution_count": 31,
   "metadata": {},
   "outputs": [],
   "source": [
    "df = spark.createDataFrame([\n",
    "    (0, 1, 1.0),\n",
    "    (0, 2, 1.0),\n",
    "    (1, 2, 1.0),\n",
    "    (3, 4, 1.0),\n",
    "    (4, 0, 0.1)\n",
    "], [\"src\", \"dst\", \"weight\"])"
   ]
  },
  {
   "cell_type": "code",
   "execution_count": 32,
   "metadata": {},
   "outputs": [
    {
     "name": "stdout",
     "output_type": "stream",
     "text": [
      "+---+-------+\n",
      "| id|cluster|\n",
      "+---+-------+\n",
      "|  0|      0|\n",
      "|  1|      0|\n",
      "|  2|      0|\n",
      "|  3|      1|\n",
      "|  4|      1|\n",
      "+---+-------+\n",
      "\n"
     ]
    }
   ],
   "source": [
    "# Build and Train Model\n",
    "classifier = PowerIterationClustering(k=2, maxIter=20, initMode=\"degree\", weightCol=\"weight\")\n",
    "# Shows the cluster assignment\n",
    "classifier.assignClusters(df).show()"
   ]
  }
 ],
 "metadata": {
  "kernelspec": {
   "display_name": "Python 3",
   "language": "python",
   "name": "python3"
  },
  "language_info": {
   "codemirror_mode": {
    "name": "ipython",
    "version": 3
   },
   "file_extension": ".py",
   "mimetype": "text/x-python",
   "name": "python",
   "nbconvert_exporter": "python",
   "pygments_lexer": "ipython3",
   "version": "3.8.3"
  }
 },
 "nbformat": 4,
 "nbformat_minor": 4
}
